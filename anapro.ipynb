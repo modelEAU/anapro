{
 "nbformat": 4,
 "nbformat_minor": 2,
 "metadata": {
  "language_info": {
   "name": "python",
   "codemirror_mode": {
    "name": "ipython",
    "version": 3
   },
   "version": "3.7.6-final"
  },
  "orig_nbformat": 2,
  "file_extension": ".py",
  "mimetype": "text/x-python",
  "name": "python",
  "npconvert_exporter": "python",
  "pygments_lexer": "ipython3",
  "version": 3,
  "kernelspec": {
   "name": "python3",
   "display_name": "Python 3"
  }
 },
 "cells": [
  {
   "cell_type": "code",
   "execution_count": 11,
   "metadata": {},
   "outputs": [
    {
     "name": "stderr",
     "output_type": "stream",
     "text": "C:\\Users\\Administrator\\Anaconda3\\envs\\dash\\lib\\site-packages\\ipykernel_launcher.py:4: DeprecationWarning: Using or importing the ABCs from 'collections' instead of from 'collections.abc' is deprecated since Python 3.3,and in 3.9 it will stop working\n  after removing the cwd from sys.path.\n"
    }
   ],
   "source": [
    "import pandas as pd\n",
    "import glob\n",
    "import os\n",
    "import pyodbc"
   ]
  },
  {
   "cell_type": "code",
   "execution_count": 20,
   "metadata": {},
   "outputs": [
    {
     "ename": "InterfaceError",
     "evalue": "('28000', \"[28000] [Microsoft][ODBC Driver 11 for SQL Server][SQL Server]Login failed for user 'root'. (18456) (SQLDriverConnect); [28000] [Microsoft][ODBC Driver 11 for SQL Server][SQL Server]Login failed for user 'root'. (18456)\")",
     "output_type": "error",
     "traceback": [
      "\u001b[1;31m---------------------------------------------------------------------------\u001b[0m",
      "\u001b[1;31mInterfaceError\u001b[0m                            Traceback (most recent call last)",
      "\u001b[1;32m<ipython-input-20-3b075cd92047>\u001b[0m in \u001b[0;36m<module>\u001b[1;34m\u001b[0m\n\u001b[0;32m     19\u001b[0m     \u001b[0mcursor\u001b[0m \u001b[1;33m=\u001b[0m \u001b[0mconn\u001b[0m\u001b[1;33m.\u001b[0m\u001b[0mcursor\u001b[0m\u001b[1;33m(\u001b[0m\u001b[1;33m)\u001b[0m\u001b[1;33m\u001b[0m\u001b[1;33m\u001b[0m\u001b[0m\n\u001b[0;32m     20\u001b[0m     \u001b[1;32mreturn\u001b[0m \u001b[0mcursor\u001b[0m\u001b[1;33m,\u001b[0m \u001b[0mconn\u001b[0m\u001b[1;33m\u001b[0m\u001b[1;33m\u001b[0m\u001b[0m\n\u001b[1;32m---> 21\u001b[1;33m \u001b[0mcursor\u001b[0m\u001b[1;33m,\u001b[0m \u001b[0mconn\u001b[0m \u001b[1;33m=\u001b[0m \u001b[0mconnect\u001b[0m\u001b[1;33m(\u001b[0m\u001b[1;33m)\u001b[0m\u001b[1;33m\u001b[0m\u001b[1;33m\u001b[0m\u001b[0m\n\u001b[0m",
      "\u001b[1;32m<ipython-input-20-3b075cd92047>\u001b[0m in \u001b[0;36mconnect\u001b[1;34m()\u001b[0m\n\u001b[0;32m     16\u001b[0m     conn = pyodbc.connect(\n\u001b[0;32m     17\u001b[0m         \u001b[1;34mr'DRIVER={ODBC Driver 11 for SQL Server};'\u001b[0m\u001b[1;33m\u001b[0m\u001b[1;33m\u001b[0m\u001b[0m\n\u001b[1;32m---> 18\u001b[1;33m         + conn_str.format(**config))\n\u001b[0m\u001b[0;32m     19\u001b[0m     \u001b[0mcursor\u001b[0m \u001b[1;33m=\u001b[0m \u001b[0mconn\u001b[0m\u001b[1;33m.\u001b[0m\u001b[0mcursor\u001b[0m\u001b[1;33m(\u001b[0m\u001b[1;33m)\u001b[0m\u001b[1;33m\u001b[0m\u001b[1;33m\u001b[0m\u001b[0m\n\u001b[0;32m     20\u001b[0m     \u001b[1;32mreturn\u001b[0m \u001b[0mcursor\u001b[0m\u001b[1;33m,\u001b[0m \u001b[0mconn\u001b[0m\u001b[1;33m\u001b[0m\u001b[1;33m\u001b[0m\u001b[0m\n",
      "\u001b[1;31mInterfaceError\u001b[0m: ('28000', \"[28000] [Microsoft][ODBC Driver 11 for SQL Server][SQL Server]Login failed for user 'root'. (18456) (SQLDriverConnect); [28000] [Microsoft][ODBC Driver 11 for SQL Server][SQL Server]Login failed for user 'root'. (18456)\")"
     ]
    }
   ],
   "source": [
    "def connect():\n",
    "    usr = 'root'\n",
    "    username = usr  # input(\"Enter username\")\n",
    "    password = ''  # getpass.getpass(prompt=\"Enter password\")\n",
    "    config = dict(\n",
    "        server='132.203.62.111',  # change this to your SQL Server hostname or IP address\n",
    "        port=1433,  # change this to your SQL Server port number [1433 is the default]\n",
    "        database= 'dateaubase2020',\n",
    "        username=username,\n",
    "        password=password)\n",
    "    conn_str = (\n",
    "        'SERVER={server},{port};'\n",
    "        + 'DATABASE={database};'\n",
    "        + 'UID={username};'\n",
    "        + 'PWD={password}')\n",
    "    conn = pyodbc.connect(\n",
    "        r'DRIVER={ODBC Driver 11 for SQL Server};'\n",
    "        + conn_str.format(**config))\n",
    "    cursor = conn.cursor()\n",
    "    return cursor, conn\n",
    "cursor, conn = connect()"
   ]
  },
  {
   "cell_type": "code",
   "execution_count": 4,
   "metadata": {},
   "outputs": [
    {
     "name": "stdout",
     "output_type": "stream",
     "text": "3 ['//10.10.10.13/infpc1_2/2020-01-31_21-44-00.par', '//10.10.10.13/infpc1_2/2020-02-01_16-00-00.par', '//10.10.10.13/infpc1_2/2020-02-02_10-16-00.par', '//10.10.10.13/infpc1_2/2020-02-03_04-33-00.par']\n"
    }
   ],
   "source": [
    "path = \"//10.10.10.13/infpc1_2/\"\n",
    "\n",
    "# List the .par files\n",
    "listFile = glob.glob(path + '*.par')\n",
    "\n",
    "# Sort the list from the oldest to the last\n",
    "listFile.sort\n",
    "\n",
    "# Index of the oldest file with new data (will change during the execution but the last file always has new data)\n",
    "index = len(listFile) - 1\n",
    "print(index, listFile)"
   ]
  },
  {
   "cell_type": "code",
   "execution_count": null,
   "metadata": {},
   "outputs": [],
   "source": []
  }
 ]
}